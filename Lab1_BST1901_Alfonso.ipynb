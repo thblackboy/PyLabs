{
 "cells": [
  {
   "cell_type": "code",
   "execution_count": null,
   "metadata": {},
   "outputs": [],
   "source": [
    "#Лабораторная работа №1\n",
    "##Выполнил студент группы БСТ1901 Альфонсо А Э Вариант 2\n",
    "###Задание №1\n",
    "#Вывод Hello World"
   ]
  },
  {
   "cell_type": "code",
   "execution_count": 1,
   "metadata": {},
   "outputs": [
    {
     "name": "stdout",
     "output_type": "stream",
     "text": [
      "Hello, World!\n"
     ]
    }
   ],
   "source": [
    "print(\"Hello, World!\")"
   ]
  },
  {
   "cell_type": "code",
   "execution_count": null,
   "metadata": {},
   "outputs": [],
   "source": [
    "###Задание №2\n",
    "#Написать генератор случайных матриц(многомерных), который принимает\n",
    "#опциональные параметры m, n, min_limit, max_limit, где m и n указывают размер\n",
    "#матрицы, а min_lim и max_lim - минимальное и максимальное значение для\n",
    "#генерируемого числа . По умолчанию при отсутствии параметров принимать следующие\n",
    "#значения:\n",
    "#m = 50\n",
    "#n = 50\n",
    "#min_limit = -250\n",
    "#max_limit = 1000 + (номер своего варианта)"
   ]
  },
  {
   "cell_type": "code",
   "execution_count": 11,
   "metadata": {},
   "outputs": [],
   "source": [
    "from random import randint\n",
    "def mas_gen(m=50,n=50,min_limit=-250,max_limit=1002):\n",
    "    a=[[0] * n for i in range(m)]\n",
    "    for i in range(m):\n",
    "        for j in range(n):\n",
    "            a[i][j]=randint(min_limit,max_limit)\n",
    "    return a"
   ]
  },
  {
   "cell_type": "code",
   "execution_count": 2,
   "metadata": {},
   "outputs": [],
   "source": [
    "###Задание №3:\n",
    "#Реализовать методы сортировки строк числовой матрицы в соответствии с\n",
    "#заданием. Оценить время работы каждого алгоритма сортировки и сравнить его со\n",
    "#временем стандартной функции сортировки. Испытания проводить на сгенерированных\n",
    "#матрицах"
   ]
  },
  {
   "cell_type": "code",
   "execution_count": 3,
   "metadata": {},
   "outputs": [],
   "source": [
    "def sort_select(a):\n",
    "    for i in range(len(a)):\n",
    "        for j in range(len(a[i])-1):\n",
    "            minv=a[i][j]\n",
    "            minj=j\n",
    "            k=j+1\n",
    "            while k<len(a[i]):\n",
    "                if a[i][k]<minv:\n",
    "                    minv=a[i][k]\n",
    "                    minj=k\n",
    "                k=k+1\n",
    "            a[i][j],a[i][minj]=a[i][minj],a[i][j]\n",
    "    return a\n"
   ]
  },
  {
   "cell_type": "code",
   "execution_count": 4,
   "metadata": {},
   "outputs": [],
   "source": [
    "def sort_insert(a):\n",
    "    for i in range(len(a)):\n",
    "        for j in range(len(a[i])):\n",
    "            k=j\n",
    "            while k>0 and a[i][k-1]>a[i][k]:\n",
    "                a[i][k],a[i][j]=a[i][j],a[i][k]\n",
    "                k=k-1\n",
    "    return a\n"
   ]
  },
  {
   "cell_type": "code",
   "execution_count": 5,
   "metadata": {},
   "outputs": [],
   "source": [
    "def sort_obmen(a):\n",
    "    for i in range(len(a)):\n",
    "        chk=True\n",
    "        while chk:\n",
    "            chk=False\n",
    "            for j in range(len(a[i])-1):\n",
    "                if a[i][j]>a[i][j+1]:\n",
    "                    chk=True\n",
    "                    a[i][j],a[i][j+1]=a[i][j+1],a[i][j]\n",
    "    return a\n",
    "\n"
   ]
  },
  {
   "cell_type": "code",
   "execution_count": 6,
   "metadata": {},
   "outputs": [],
   "source": [
    "def sort_shell(a):\n",
    "    for i in range(len(a)):\n",
    "        step=len(a[i])//2\n",
    "        while step>0:\n",
    "            for j in range(len(a[i])-step):\n",
    "                k=j\n",
    "                while k>=0 and a[i][k]>a[i][k+step]:\n",
    "                    a[i][k],a[i][k+step]=a[i][k+step],a[i][k]\n",
    "                    k=k-step\n",
    "            step=step//2\n",
    "    return a\n",
    "\n",
    "        "
   ]
  },
  {
   "cell_type": "code",
   "execution_count": 7,
   "metadata": {},
   "outputs": [],
   "source": [
    "def sort_tour(a):\n",
    "    for p in range(len(a)):\n",
    "        tree = [None] * 2 * (len(a[p]) + len(a[p]) % 2)\n",
    "        index = len(tree) - len(a[p]) - len(a[p]) % 2\n",
    "    \n",
    "        for i, v in enumerate(a[p]):\n",
    "            tree[index + i] = (i, v)\n",
    "    \n",
    "        for j in range(len(a[p])):\n",
    "            n = len(a[p])\n",
    "            index = len(tree) - len(a[p]) - len(a[p]) % 2\n",
    "            while index > -1:\n",
    "                n = (n + 1) // 2\n",
    "                for i in range(n):\n",
    "                    i = max(index + i * 2, 1) # на последней итерация index + i * 2 = 0\n",
    "                    if tree[i] != None and tree[i + 1] != None:\n",
    "                        if tree[i][1] < tree[i + 1][1]:\n",
    "                            tree[i // 2] = tree[i]\n",
    "                        else:\n",
    "                            tree[i // 2] = tree[i + 1]\n",
    "                    else:\n",
    "                        tree[i // 2] = tree[i] if tree[i] != None else tree[i + 1]\n",
    "                index -= n\n",
    "\n",
    "            index, x = tree[0]\n",
    "            a[p][j] = x\n",
    "            tree[len(tree) - len(a[p]) - len(a[p]) % 2 + index] = None\n",
    "    return a\n",
    "    \n"
   ]
  },
  {
   "cell_type": "code",
   "execution_count": 8,
   "metadata": {},
   "outputs": [],
   "source": [
    "# Процедура для преобразования в двоичную кучу поддерева с корневым узлом i, что является индексом в arr[]. n - размер кучи\n",
    "def heapify(arr, n, i):\n",
    "    largest = i # Initialize largest as root\n",
    "    l = 2 * i + 1   # left = 2*i + 1\n",
    "    r = 2 * i + 2   # right = 2*i + 2\n",
    "\n",
    "  # Проверяем существует ли левый дочерний элемент больший, чем корень\n",
    "\n",
    "    if l < n and arr[i] < arr[l]:\n",
    "        largest = l\n",
    "\n",
    "    # Проверяем существует ли правый дочерний элемент больший, чем корень\n",
    "\n",
    "    if r < n and arr[largest] < arr[r]:\n",
    "        largest = r\n",
    "\n",
    "    # Заменяем корень, если нужно\n",
    "    if largest != i:\n",
    "        arr[i],arr[largest] = arr[largest],arr[i] # свап\n",
    "\n",
    "        # Применяем heapify к корню.\n",
    "        heapify(arr, n, largest)\n",
    "\n",
    "# Основная функция для сортировки массива заданного размера\n",
    "def sort_heap(arr):\n",
    "    for p in range(len(arr)):\n",
    "        n = len(arr[p])\n",
    "\n",
    "        # Построение max-heap.\n",
    "        for i in range(n, -1, -1):\n",
    "            heapify(arr[p], n, i)\n",
    "\n",
    "        # Один за другим извлекаем элементы\n",
    "        for i in range(n-1, 0, -1):\n",
    "            arr[p][i], arr[p][0] = arr[p][0], arr[p][i] # свап \n",
    "            heapify(arr[p], i, 0)\n",
    "    return arr\n"
   ]
  },
  {
   "cell_type": "code",
   "execution_count": 9,
   "metadata": {},
   "outputs": [],
   "source": [
    "def partition(nums, low, high):  \n",
    "    # Выбираем средний элемент в качестве опорного\n",
    "    # Также возможен выбор первого, последнего\n",
    "    # или произвольного элементов в качестве опорного\n",
    "    pivot = nums[(low + high) // 2]\n",
    "    i = low - 1\n",
    "    j = high + 1\n",
    "    while True:\n",
    "        i += 1\n",
    "        while nums[i] < pivot:\n",
    "            i += 1\n",
    "\n",
    "        j -= 1\n",
    "        while nums[j] > pivot:\n",
    "            j -= 1\n",
    "\n",
    "        if i >= j:\n",
    "            return j\n",
    "\n",
    "        # Если элемент с индексом i (слева от опорного) больше, чем\n",
    "        # элемент с индексом j (справа от опорного), меняем их местами\n",
    "        nums[i], nums[j] = nums[j], nums[i]\n",
    "\n",
    "def quick_sort(arr):\n",
    "    for i in range(len(arr)):\n",
    "        # Создадим вспомогательную функцию, которая вызывается рекурсивно\n",
    "        def _quick_sort(items, low, high):\n",
    "            if low < high:\n",
    "                # This is the index after the pivot, where our lists are split\n",
    "                split_index = partition(items, low, high)\n",
    "                _quick_sort(items, low, split_index)\n",
    "                _quick_sort(items, split_index + 1, high)\n",
    "    \n",
    "        _quick_sort(arr[i], 0, len(arr[i]) - 1)\n",
    "    return arr\n",
    "\n"
   ]
  },
  {
   "cell_type": "code",
   "execution_count": 18,
   "metadata": {},
   "outputs": [
    {
     "name": "stdout",
     "output_type": "stream",
     "text": [
      "Выборка\n",
      "0.00011279999998237145\n",
      "Вставка\n",
      "6.609999999795946e-05\n",
      "Обмен\n",
      "0.00013559999999301908\n",
      "Шелл\n",
      "9.979999998677158e-05\n",
      "Турнирная\n",
      "0.0004897000000028129\n",
      "Пирамидная\n",
      "0.00014740000000301734\n",
      "Быстрая\n",
      "0.00010489999999663269\n"
     ]
    }
   ],
   "source": [
    "import time\n",
    "print('Выборка')\n",
    "arr=mas_gen(5,10)\n",
    "timerStart=time.perf_counter()\n",
    "arr=sort_select(arr)\n",
    "timerEnd= time.perf_counter()\n",
    "print(timerEnd - timerStart)\n",
    "\n",
    "print('Вставка')\n",
    "arr=mas_gen(5,10)\n",
    "timerStart=time.perf_counter()\n",
    "arr=sort_insert(arr)\n",
    "timerEnd= time.perf_counter()\n",
    "print(timerEnd - timerStart)\n",
    "\n",
    "print('Обмен')\n",
    "arr=mas_gen(5,10)\n",
    "timerStart=time.perf_counter()\n",
    "arr=sort_obmen(arr)\n",
    "timerEnd= time.perf_counter()\n",
    "print(timerEnd - timerStart)\n",
    "\n",
    "print('Шелл')\n",
    "arr=mas_gen(5,10)\n",
    "timerStart=time.perf_counter()\n",
    "arr=sort_shell(arr)\n",
    "timerEnd= time.perf_counter()\n",
    "print(timerEnd - timerStart)\n",
    "\n",
    "print('Турнирная')\n",
    "arr=mas_gen(5,10)\n",
    "timerStart=time.perf_counter()\n",
    "arr=sort_tour(arr)\n",
    "timerEnd= time.perf_counter()\n",
    "print(timerEnd - timerStart)\n",
    "\n",
    "print('Пирамидная')\n",
    "arr=mas_gen(5,10)\n",
    "timerStart=time.perf_counter()\n",
    "arr=sort_heap(arr)\n",
    "timerEnd = time.perf_counter()\n",
    "print(timerEnd - timerStart)\n",
    "\n",
    "print('Быстрая')\n",
    "arr=mas_gen(5,10)\n",
    "timerStart=time.perf_counter()\n",
    "arr=quick_sort(arr)\n",
    "timerEnd= time.perf_counter()\n",
    "print(timerEnd - timerStart)"
   ]
  },
  {
   "cell_type": "code",
   "execution_count": null,
   "metadata": {},
   "outputs": [],
   "source": []
  },
  {
   "cell_type": "code",
   "execution_count": null,
   "metadata": {},
   "outputs": [],
   "source": []
  }
 ],
 "metadata": {
  "kernelspec": {
   "display_name": "Python 3",
   "language": "python",
   "name": "python3"
  },
  "language_info": {
   "codemirror_mode": {
    "name": "ipython",
    "version": 3
   },
   "file_extension": ".py",
   "mimetype": "text/x-python",
   "name": "python",
   "nbconvert_exporter": "python",
   "pygments_lexer": "ipython3",
   "version": "3.8.5"
  }
 },
 "nbformat": 4,
 "nbformat_minor": 4
}
