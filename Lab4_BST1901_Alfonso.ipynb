{
 "cells": [
  {
   "cell_type": "markdown",
   "id": "a7ec3e98-32e5-4f8a-b97d-162e54832429",
   "metadata": {},
   "source": [
    "# Лабораторная работа №4. Реализация стека/дека.\n",
    "## Выполнил студент группы: БСТ1901 Альфонсо А Э."
   ]
  },
  {
   "cell_type": "markdown",
   "id": "83530a2b-2514-4306-9ca5-7c8ad4f815b4",
   "metadata": {},
   "source": [
    "### **Реализовать следующие структуры данных:**"
   ]
  },
  {
   "cell_type": "markdown",
   "id": "8afd9a11-79f3-447e-a7e2-b80c10cb7c33",
   "metadata": {},
   "source": [
    "## **● Стек** (stack):\n",
    "    \n",
    "Операции для стека: инициализация, проверка на пустоту, добавление\n",
    "нового элемента в начало, извлечение элемента из начала;"
   ]
  },
  {
   "cell_type": "code",
   "execution_count": 2,
   "id": "909dab22-7dd2-4174-a38a-f24542bd4544",
   "metadata": {},
   "outputs": [],
   "source": [
    "class Stack:\n",
    "    def __init__(self):\n",
    "        self.stack = []\n",
    "\n",
    "    def is_empty(self):\n",
    "        return len(self.stack) == 0\n",
    "\n",
    "    def push(self, value):\n",
    "        self.stack.append(value)\n",
    "\n",
    "    def peek(self):\n",
    "        if self.is_empty():\n",
    "            raise Exception(\"Stack is empty\")\n",
    "        return self.stack[-1]\n",
    "\n",
    "    def pop(self):\n",
    "        if self.is_empty():\n",
    "            raise Exception(\"Stack is empty\")\n",
    "        return self.stack.pop()\n",
    "\n",
    "    def size(self):\n",
    "        return len(self.stack)\n",
    "\n",
    "    def print(self):\n",
    "        print(self.stack)"
   ]
  },
  {
   "cell_type": "markdown",
   "id": "c6f285e3-3015-4971-9438-d34f9a4b88e4",
   "metadata": {},
   "source": [
    "## **● Дек** (двусторонняя очередь, deque):\n",
    "Оерации для дека: инициализация, проверка на пустоту, добавление\n",
    "нового элемента в начало, добавление нового элемента в конец,\n",
    "извлечение элемента из начала, извлечение элемента из конца.\n",
    "\n",
    "   Разработать программу обработки данных, содержащихся в заранее\n",
    "подготовленном txt-файле, в соответствии с заданиями, применив\n",
    "указанную в задании структуру данных. Результат работы программы\n",
    "вывести на экран и сохранить в отдельном txt-файле."
   ]
  },
  {
   "cell_type": "code",
   "execution_count": 3,
   "id": "20ca85f0-b189-4792-87de-03f712c32cf5",
   "metadata": {},
   "outputs": [],
   "source": [
    "class Deque:\n",
    "    def __init__(self):\n",
    "        self.deque = []\n",
    "\n",
    "    def is_empty(self):\n",
    "        return len(self.deque) == 0\n",
    "\n",
    "    def add_first(self, value):\n",
    "        self.deque.insert(0, value)\n",
    "\n",
    "    def add_last(self, value):\n",
    "        self.deque.append(value)\n",
    "\n",
    "    def pop_first(self):\n",
    "        if self.is_empty():\n",
    "            raise Exception(\"Deque is empty\")\n",
    "        return self.deque.pop(0)\n",
    "\n",
    "    def pop_last(self):\n",
    "        if self.is_empty():\n",
    "            raise Exception(\"Deque is empty\")\n",
    "        return self.deque.pop()\n",
    "\n",
    "    def peek_first(self):\n",
    "        if self.is_empty():\n",
    "            raise Exception(\"Deque is empty\")\n",
    "        return self.deque[0]\n",
    "\n",
    "    def peek_last(self):\n",
    "        if self.is_empty():\n",
    "            raise Exception(\"Deque is empty\")\n",
    "        return self.deque[-1]\n",
    "\n",
    "    def size(self):\n",
    "        return len(self.deque)\n",
    "\n",
    "    def print(self):\n",
    "        print(self.deque)"
   ]
  },
  {
   "cell_type": "markdown",
   "id": "fac54e19-b8a9-4492-9f33-5d2a9bed73cc",
   "metadata": {},
   "source": [
    "## **Задания:**"
   ]
  },
  {
   "cell_type": "markdown",
   "id": "8be9f199-f0f3-4d2c-bd1f-be9d63045eb6",
   "metadata": {},
   "source": [
    "**1.** Отсортировать строки файла, содержащие названия книг, в алфавитном порядке с\n",
    "использованием двух деков."
   ]
  },
  {
   "cell_type": "code",
   "execution_count": 8,
   "id": "0d68456e-8428-4cb3-b532-379f7caaf10f",
   "metadata": {},
   "outputs": [
    {
     "name": "stdout",
     "output_type": "stream",
     "text": [
      "А \n",
      "\n",
      "Б\n",
      "\n",
      "В\n"
     ]
    }
   ],
   "source": [
    "with open('book.txt', 'r', encoding='utf-8') as f:\n",
    "    d1 = Deque()\n",
    "    d2 = Deque()\n",
    "\n",
    "    for book in f:\n",
    "        d1.add_last(book)\n",
    "\n",
    "    while not d1.is_empty():\n",
    "        x = d1.pop_last()\n",
    "        while not d2.is_empty() and d2.peek_last() < x:\n",
    "            d1.add_first(d2.pop_last())\n",
    "        d2.add_last(x)\n",
    "\n",
    "    while not d2.is_empty():\n",
    "        print(d2.pop_last())"
   ]
  },
  {
   "cell_type": "markdown",
   "id": "e864f0a7-41bf-400b-b8db-6fbd732d3cae",
   "metadata": {},
   "source": [
    "**2.** Дек содержит последовательность символов для шифровки сообщений. Дан\n",
    "текстовый файл, содержащий зашифрованное сообщение. Пользуясь деком,\n",
    "расшифровать текст. Известно, что при шифровке каждый символ сообщения\n",
    "заменялся следующим за ним в деке по часовой стрелке через один."
   ]
  },
  {
   "cell_type": "code",
   "execution_count": 11,
   "id": "837ef563-6193-4ee9-8728-6b344b08f6cf",
   "metadata": {},
   "outputs": [
    {
     "name": "stdout",
     "output_type": "stream",
     "text": [
      "абвгд\n"
     ]
    }
   ],
   "source": [
    "alphabet = list('абвгдеёжзийклмнопрстуфхцчшщъыьэюя')\n",
    "\n",
    "keyRing = Deque()\n",
    "for letter in alphabet:\n",
    "    keyRing.add_last(letter)\n",
    "\n",
    "def decode_char(c):\n",
    "    for i in range(keyRing.size()):\n",
    "        x = keyRing.pop_last()\n",
    "        if x == c:\n",
    "            keyRing.add_first(x)\n",
    "            val = keyRing.pop_last()\n",
    "            keyRing.add_first(val)\n",
    "            return val\n",
    "        keyRing.add_first(x)\n",
    "\n",
    "text = 'бвгде'\n",
    "\n",
    "\n",
    "\n",
    "decoded = ''\n",
    "for letter in text:\n",
    "    if decoded_letter := decode_char(letter):\n",
    "        decoded += decoded_letter\n",
    "    else:\n",
    "        decoded += letter\n",
    "print(decoded)"
   ]
  },
  {
   "cell_type": "markdown",
   "id": "af9b43fe-6e4e-43a9-9ad7-333be2fcd353",
   "metadata": {},
   "source": [
    "**3.** Даны три стержня и n дисков различного размера. Диски можно надевать на\n",
    "стержни, образуя из них башни. Перенести n дисков со стержня А на стержень С,\n",
    "сохранив их первоначальный порядок. При переносе дисков необходимо соблюдать\n",
    "следующие правила:\n",
    "- на каждом шаге со стержня на стержень переносить только один диск;\n",
    "- диск нельзя помещать на диск меньшего размера;\n",
    "- для промежуточного хранения можно использовать стержень В.\n",
    "Реализовать алгоритм, используя три стека вместо стержней А, В, С. Информация\n",
    "о дисках хранится в исходном файле."
   ]
  },
  {
   "cell_type": "code",
   "execution_count": 12,
   "id": "0cf22132-2ab2-4084-aab9-d5a795fc98df",
   "metadata": {},
   "outputs": [
    {
     "name": "stdout",
     "output_type": "stream",
     "text": [
      "1\n",
      "2\n",
      "3\n",
      "4\n",
      "5\n",
      "6\n",
      "7\n",
      "8\n",
      "9\n",
      "10\n"
     ]
    }
   ],
   "source": [
    "A = Stack()\n",
    "B = Stack()\n",
    "C = Stack()\n",
    "\n",
    "disks = 10\n",
    "\n",
    "for i in range(disks, 0, -1):\n",
    "    A.push(i)\n",
    "\n",
    "\n",
    "def move(a, b):\n",
    "    if a.is_empty() and not b.is_empty():\n",
    "        a.push(b.pop())\n",
    "    elif not a.is_empty() and b.is_empty():\n",
    "        b.push(a.pop())\n",
    "    elif a.peek() > b.peek():\n",
    "        a.push(b.pop())\n",
    "    else:\n",
    "        b.push(a.pop())\n",
    "\n",
    "\n",
    "if disks % 2 == 0:\n",
    "    while C.size() != disks:\n",
    "        move(A, B)\n",
    "        move(A, C)\n",
    "        move(B, C)\n",
    "else:\n",
    "    while C.size() != disks:\n",
    "        move(A, C)\n",
    "        move(A, B)\n",
    "        move(B, C)\n",
    "\n",
    "while not C.is_empty():\n",
    "    print(C.pop())"
   ]
  },
  {
   "cell_type": "markdown",
   "id": "672adb44-3b64-45bd-8d00-030a0265e6a6",
   "metadata": {},
   "source": [
    "**4.** Дан текстовый файл с программой на алгоритмическом языке. За один просмотр\n",
    "файла проверить баланс круглых скобок в тексте, используя стек."
   ]
  },
  {
   "cell_type": "code",
   "execution_count": 15,
   "id": "8ba6e975-5ac4-401e-98da-598818bb3b68",
   "metadata": {},
   "outputs": [
    {
     "name": "stdout",
     "output_type": "stream",
     "text": [
      "False\n",
      "True\n",
      "True\n"
     ]
    }
   ],
   "source": [
    "def check_brackets(string):\n",
    "    bracket_stack = Stack()\n",
    "    for i in string:\n",
    "        if i == '(':\n",
    "            bracket_stack.push(i)\n",
    "        elif i == ')':\n",
    "            if bracket_stack.is_empty():\n",
    "                return False\n",
    "            bracket_stack.pop()\n",
    "    return bracket_stack.is_empty()\n",
    "\n",
    "print(check_brackets('()())'))\n",
    "print(check_brackets('(()())()()()()(()(()(())()))'))\n",
    "print(check_brackets('()'))"
   ]
  },
  {
   "cell_type": "markdown",
   "id": "3cf900ee-6586-41b4-8d14-f9a5f5cdfcdb",
   "metadata": {},
   "source": [
    "**5.** Дан текстовый файл с программой на алгоритмическом языке. За один просмотр\n",
    "файла проверить баланс квадратных скобок в тексте, используя дек."
   ]
  },
  {
   "cell_type": "code",
   "execution_count": 16,
   "id": "7e8a182a-d1d8-46c0-89b4-cc606d2aa691",
   "metadata": {},
   "outputs": [
    {
     "name": "stdout",
     "output_type": "stream",
     "text": [
      "True\n",
      "False\n"
     ]
    }
   ],
   "source": [
    "def check_square_brackets(string):\n",
    "    bracket_stack = Deque()\n",
    "    for i in string:\n",
    "        if i == '[':\n",
    "            bracket_stack.add_last(i)\n",
    "        elif i == ']':\n",
    "            if bracket_stack.is_empty():\n",
    "                return False\n",
    "            bracket_stack.pop_last()\n",
    "    return bracket_stack.is_empty()\n",
    "\n",
    "print(check_square_brackets('[]'))\n",
    "print(check_square_brackets('[[]]]'))"
   ]
  },
  {
   "cell_type": "markdown",
   "id": "4c990082-5bcb-4a47-a3cf-0c45e2923ccd",
   "metadata": {},
   "source": [
    "**6.** Дан файл из символов. Используя стек, за один просмотр файла напечатать\n",
    "сначала все цифры, затем все буквы, и, наконец, все остальные символы, сохраняя\n",
    "исходный порядок в каждой группе символов."
   ]
  },
  {
   "cell_type": "code",
   "execution_count": 17,
   "id": "fd6a8154-f070-40d2-8c8d-46997c674b2d",
   "metadata": {},
   "outputs": [
    {
     "name": "stdout",
     "output_type": "stream",
     "text": [
      "123символы.,//\n"
     ]
    }
   ],
   "source": [
    "text = '.си1,м/2/во3лы'\n",
    "\n",
    "letters = Stack()\n",
    "digits = Stack()\n",
    "others = Stack()\n",
    "\n",
    "for c in text:\n",
    "    if c.isalpha():\n",
    "        letters.push(c)\n",
    "    elif c.isdigit():\n",
    "        digits.push(c)\n",
    "    else:\n",
    "        others.push(c)\n",
    "\n",
    "new_text = ''\n",
    "\n",
    "\n",
    "while not others.is_empty():\n",
    "    new_text += others.pop()\n",
    "\n",
    "while not letters.is_empty():\n",
    "    new_text += letters.pop()\n",
    "\n",
    "while not digits.is_empty():\n",
    "    new_text += digits.pop()\n",
    "print(new_text[::-1])"
   ]
  },
  {
   "cell_type": "markdown",
   "id": "81475386-d6bd-4680-a020-9322e688f999",
   "metadata": {},
   "source": [
    "**7.** Дан файл из целых чисел. Используя дек, за один просмотр файла напечатать\n",
    "сначала все отрицательные числа, затем все положительные числа, сохраняя\n",
    "исходный порядок в каждой группе."
   ]
  },
  {
   "cell_type": "code",
   "execution_count": 18,
   "id": "ba64fd67-9b28-457f-83d8-4cdd77f26e36",
   "metadata": {},
   "outputs": [
    {
     "name": "stdout",
     "output_type": "stream",
     "text": [
      "[1, 10, 2, 1, 5, 6, 10, -4, -9, 8]\n",
      "-4\n",
      "-9\n",
      "1\n",
      "10\n",
      "2\n",
      "1\n",
      "5\n",
      "6\n",
      "10\n",
      "8\n"
     ]
    }
   ],
   "source": [
    "import random\n",
    "\n",
    "numbers = [random.randint(-10, 10) for i in range(10)]\n",
    "print(numbers)\n",
    "\n",
    "deque = Deque()\n",
    "for n in numbers:\n",
    "    if n < 0:\n",
    "        deque.add_first(n)\n",
    "    else:\n",
    "        deque.add_last(n)\n",
    "\n",
    "while not deque.is_empty():\n",
    "    x = deque.pop_first()\n",
    "    if x < 0:\n",
    "        deque.add_last(x)\n",
    "    else:\n",
    "        deque.add_first(x)\n",
    "        break\n",
    "\n",
    "while not deque.is_empty():\n",
    "    x = deque.pop_last()\n",
    "    if x < 0:\n",
    "        print(x)\n",
    "    else:\n",
    "        deque.add_last(x)\n",
    "        break\n",
    "\n",
    "while not deque.is_empty():\n",
    "    print(deque.pop_first())"
   ]
  },
  {
   "cell_type": "markdown",
   "id": "18dc2e52-a921-4de2-816c-f7b00c6573ef",
   "metadata": {},
   "source": [
    "**8.** Дан текстовый файл. Используя стек, сформировать новый текстовый файл,\n",
    "содержащий строки исходного файла, записанные в обратном порядке: первая\n",
    "строка становится последней, вторая – предпоследней и т.д."
   ]
  },
  {
   "cell_type": "code",
   "execution_count": 20,
   "id": "c8ccf9e4-8f92-4790-92ee-3d2ebd04ce2a",
   "metadata": {},
   "outputs": [
    {
     "name": "stdout",
     "output_type": "stream",
     "text": [
      "Б\n",
      "А\n",
      "В\n",
      "-----------------------------\n",
      "В\n",
      "А\n",
      "Б\n"
     ]
    }
   ],
   "source": [
    "with open('book.txt', 'r', encoding='utf-8') as books:\n",
    "    stack = Stack()\n",
    "    for book in books:\n",
    "        book = book.strip()\n",
    "        print(book)\n",
    "        stack.push(book)\n",
    "    print('-----------------------------')\n",
    "    while not stack.is_empty():\n",
    "        print(stack.pop())"
   ]
  },
  {
   "cell_type": "markdown",
   "id": "e715f63f-b471-4fcd-876d-318b15e71536",
   "metadata": {},
   "source": [
    "**9.** Дан текстовый файл. Используя стек, вычислить значение логического выражения,\n",
    "записанного в текстовом файле в следующей форме:\n",
    "< ЛВ > ::= T | F | (N<ЛВ>) | (<ЛВ>A<ЛВ>) | (<ЛВ>X<ЛВ>) | (<ЛВ>O<ЛВ>),\n",
    "где буквами обозначены логические константы и операции:\n",
    "T – True, F – False, N – Not, A – And, X – Xor, O – Or.\n"
   ]
  },
  {
   "cell_type": "code",
   "execution_count": 21,
   "id": "f36cc4e4-89aa-43e4-bf26-f463d2e00880",
   "metadata": {},
   "outputs": [
    {
     "name": "stdout",
     "output_type": "stream",
     "text": [
      "T\n"
     ]
    }
   ],
   "source": [
    "text = '((T)XF)X(TAT)OT'\n",
    "\n",
    "opstack = Stack()\n",
    "vstack = Stack()\n",
    "\n",
    "cur = 0\n",
    "while True:\n",
    "    read = False\n",
    "    if not opstack.is_empty():\n",
    "        if opstack.peek() == 'N':\n",
    "            if vstack.is_empty():\n",
    "                read = True\n",
    "            else:\n",
    "                if vstack.pop() == 'T':\n",
    "                    vstack.push('F')\n",
    "                else:\n",
    "                    vstack.push('T')\n",
    "                opstack.pop()\n",
    "        elif opstack.peek() == 'A':\n",
    "            if vstack.size() < 2:\n",
    "                read = True\n",
    "            else:\n",
    "                a = vstack.pop()\n",
    "                b = vstack.pop()\n",
    "                if a == b and b == 'T':\n",
    "                    vstack.push('T')\n",
    "                else:\n",
    "                    vstack.push('F')\n",
    "                opstack.pop()\n",
    "        elif opstack.peek() == 'O':\n",
    "            if vstack.size() < 2:\n",
    "                read = True\n",
    "            else:\n",
    "                a = vstack.pop()\n",
    "                b = vstack.pop()\n",
    "                if a == 'T' or b == 'T':\n",
    "                    vstack.push('T')\n",
    "                else:\n",
    "                    vstack.push('F')\n",
    "                opstack.pop()\n",
    "        elif opstack.peek() == 'X':\n",
    "            if vstack.size() < 2:\n",
    "                read = True\n",
    "            else:\n",
    "                a = vstack.pop()\n",
    "                b = vstack.pop()\n",
    "                if a != b:\n",
    "                    vstack.push('T')\n",
    "                else:\n",
    "                    vstack.push('F')\n",
    "                opstack.pop()\n",
    "        elif opstack.peek() == '(':\n",
    "            read = True\n",
    "        elif opstack.peek() == ')':\n",
    "            opstack.pop()\n",
    "            opstack.pop()\n",
    "    else:\n",
    "        read = True\n",
    "    if read:\n",
    "        i = text[cur]\n",
    "        if i in 'FT':\n",
    "            vstack.push(i)\n",
    "        if i in 'AXON()':\n",
    "            opstack.push(i)\n",
    "        cur += 1\n",
    "    \n",
    "\n",
    "    if cur == len(text) and opstack.size() == 0:\n",
    "        break\n",
    "\n",
    "while not vstack.is_empty():\n",
    "    print(vstack.pop())"
   ]
  },
  {
   "cell_type": "markdown",
   "id": "fe22f67f-afe0-4283-af24-4a31d29c2d97",
   "metadata": {},
   "source": [
    "**10.** Дан текстовый файл. В текстовом файле записана формула следующего вида:\n",
    "\n",
    "<Формула> ::= <Цифра> | M(<Формула>,<Формула>) | N(Формула>,<Формула>)\n",
    "\n",
    "< Цифра > ::= 0 | 1 | 2 | 3 | 4 | 5 | 6 | 7 | 8 | 9\n",
    "\n",
    "где буквами обозначены функции:\n",
    "M – определение максимума, N – определение минимума.\n",
    "Используя стек, вычислить значение заданного выражения."
   ]
  },
  {
   "cell_type": "code",
   "execution_count": 22,
   "id": "bec994b9-ffde-4585-a583-c2b279563dcb",
   "metadata": {},
   "outputs": [
    {
     "name": "stdout",
     "output_type": "stream",
     "text": [
      "7\n"
     ]
    }
   ],
   "source": [
    "text = 'N(10, M(4, N(8, M(7, M(6, M(5, 4))))))'\n",
    "\n",
    "op = Stack()\n",
    "nums = Stack()\n",
    "\n",
    "num = ''\n",
    "\n",
    "cur = 0\n",
    "while cur < len(text):\n",
    "    i = text[cur]\n",
    "    if i.isdigit():\n",
    "        num += i\n",
    "    elif num != '':\n",
    "        nums.push(int(num))\n",
    "        num = ''\n",
    "    if i in 'MN':\n",
    "        op.push(i)\n",
    "    cur += 1\n",
    "\n",
    "while not op.is_empty():\n",
    "    a = nums.pop()\n",
    "    b = nums.pop()\n",
    "    if a < b:\n",
    "        a,b = b,a\n",
    "    if op.pop() == 'M':\n",
    "        nums.push(a)\n",
    "    else:\n",
    "        nums.push(b)\n",
    "\n",
    "while not nums.is_empty():\n",
    "    print(nums.pop())"
   ]
  },
  {
   "cell_type": "markdown",
   "id": "1370c287-32dc-4fbb-b626-0e5b48c07a15",
   "metadata": {},
   "source": [
    "**11.** Дан текстовый файл. Используя стек, проверить, является ли содержимое\n",
    "текстового файла правильной записью формулы вида:\n",
    "\n",
    "< Формула > ::= < Терм > | < Терм > + < Формула > | < Терм > - < Формула >\n",
    "\n",
    "< Терм > ::= < Имя > | (< Формула >)\n",
    "\n",
    "< Имя > ::= x | y | z"
   ]
  },
  {
   "cell_type": "code",
   "execution_count": 23,
   "id": "b01574f0-aa54-40c1-a587-465163ce465c",
   "metadata": {},
   "outputs": [
    {
     "data": {
      "text/plain": [
       "True"
      ]
     },
     "execution_count": 23,
     "metadata": {},
     "output_type": "execute_result"
    }
   ],
   "source": [
    "def check(text):\n",
    "    stack = Stack()\n",
    "\n",
    "    cur = 0\n",
    "    while True:\n",
    "        read = False\n",
    "        if not stack.is_empty():\n",
    "            if stack.peek() == '(':\n",
    "                read = True\n",
    "            elif stack.peek() == ')':\n",
    "                stack.pop()\n",
    "                if stack.size() < 2 or stack.pop() != 'formula' or stack.pop() != '(':\n",
    "                    return False\n",
    "                stack.push('formula')\n",
    "            elif stack.peek() == 'formula':\n",
    "                stack.pop()\n",
    "                if stack.size() > 1 and stack.peek() in '+-':\n",
    "                    if stack.pop() in '+-' and stack.pop() == 'formula':\n",
    "                        stack.push('formula')\n",
    "                    else:\n",
    "                        return False\n",
    "                else:\n",
    "                    stack.push('formula')\n",
    "                    read = True\n",
    "            else:\n",
    "                read = True\n",
    "        else:\n",
    "            read = True\n",
    "        if read:\n",
    "            i = text[cur]\n",
    "            if i in 'xyz':\n",
    "                stack.push('formula')\n",
    "            elif i in '()+-':\n",
    "                stack.push(i)\n",
    "            cur += 1\n",
    "        if cur == len(text) and stack.size() == 1:\n",
    "            break\n",
    "    return True\n",
    "\n",
    "check('((x + y) + (x - y) + z)')"
   ]
  }
 ],
 "metadata": {
  "kernelspec": {
   "display_name": "Python 3",
   "language": "python",
   "name": "python3"
  },
  "language_info": {
   "codemirror_mode": {
    "name": "ipython",
    "version": 3
   },
   "file_extension": ".py",
   "mimetype": "text/x-python",
   "name": "python",
   "nbconvert_exporter": "python",
   "pygments_lexer": "ipython3",
   "version": "3.9.4"
  }
 },
 "nbformat": 4,
 "nbformat_minor": 5
}
