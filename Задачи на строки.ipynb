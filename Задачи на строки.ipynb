{
 "cells": [
  {
   "cell_type": "markdown",
   "id": "60a47aec-7e08-4027-b9e6-ef83fe93c7ec",
   "metadata": {},
   "source": [
    "# Задачи на строки \n",
    "### Выполнил студент группы: БСТ1901 Альфонсо А Э"
   ]
  },
  {
   "cell_type": "markdown",
   "id": "a6c8fbe1-71eb-4ce5-87f2-8d1a337fce14",
   "metadata": {},
   "source": [
    "## Задача 1."
   ]
  },
  {
   "cell_type": "markdown",
   "id": "b3cc6c90-466d-494d-a884-d8820533a7d8",
   "metadata": {},
   "source": [
    "Даны две строки: s1 и s2 с одинаковым размером, проверьте, может ли\n",
    "некоторая перестановка строки s1 “победить” некоторую перестановку\n",
    "строки s2 или наоборот.\n",
    "Строка x может “победить” строку y (обе имеют размер n), если x[i]> = y\n",
    "[i] (в алфавитном порядке) для всех i от 0 до n-1."
   ]
  },
  {
   "cell_type": "code",
   "execution_count": 5,
   "id": "0838d00b-25a4-4267-b724-dc8ffd66784e",
   "metadata": {},
   "outputs": [
    {
     "data": {
      "text/plain": [
       "True"
      ]
     },
     "execution_count": 5,
     "metadata": {},
     "output_type": "execute_result"
    }
   ],
   "source": [
    "from itertools import permutations\n",
    "\n",
    "def get_all_str(str):\n",
    "    return [''.join(p) for p in permutations(str)]\n",
    "\n",
    "def win(first, second):\n",
    "    for i in range(len(first)):\n",
    "        if i == len(first) - 1 and first[i] >= second[i]:\n",
    "            return True\n",
    "        elif first[i] < second[i]:\n",
    "            return False\n",
    "\n",
    "def get_win(first_str, second_str):\n",
    "    first_arr = get_all_str(first_str)\n",
    "    second_arr = get_all_str(second_str)\n",
    "\n",
    "    for first in first_arr:\n",
    "        for second in second_arr:\n",
    "            if win(first, second):\n",
    "                return True\n",
    "    \n",
    "    return False\n",
    "\n",
    "s1 = \"caaa\"\n",
    "s2 = \"aaba\"\n",
    "\n",
    "get_win(s1, s2)"
   ]
  },
  {
   "cell_type": "markdown",
   "id": "b807b4d4-3391-44dd-94c1-9188c4be2bc6",
   "metadata": {},
   "source": [
    "## Задача 2."
   ]
  },
  {
   "cell_type": "markdown",
   "id": "a2eec6ef-81d6-4e37-ba2b-7448d4e461a0",
   "metadata": {},
   "source": [
    "Дана строка s, вернуть самую длинную полиндромную подстроку в s.\n",
    "\n",
    "**Примеры:**\n",
    "\n",
    "Input: s = \"babad\"\n",
    "\n",
    "Output: \"bab\"\n",
    "\n",
    "Note: \"aba\" is also a valid answer.\n",
    "\n",
    "Input: s = \"cbbd\"\n",
    "\n",
    "Output: \"bb\""
   ]
  },
  {
   "cell_type": "code",
   "execution_count": 2,
   "id": "be7fceba-357c-4dee-a5c4-4e447148c34a",
   "metadata": {},
   "outputs": [
    {
     "data": {
      "text/plain": [
       "'bab'"
      ]
     },
     "execution_count": 2,
     "metadata": {},
     "output_type": "execute_result"
    }
   ],
   "source": [
    "def is_palindrome(str_):\n",
    "    reverse_str = str_[::-1]\n",
    "    if reverse_str == str_:\n",
    "        return True\n",
    "    else:\n",
    "        return False\n",
    "\n",
    "def get_palindrome(str_):\n",
    "    max_p = ''\n",
    "    for i in range(len(str_) - 1):\n",
    "        for j in range(i + 1, len(str_)):\n",
    "            if is_palindrome(str_[i:j + 1]) and len(max_p) < len(str_[i:j + 1]):\n",
    "                max_p = str_[i:j + 1]\n",
    "    return max_p\n",
    "\n",
    "get_palindrome('babad')"
   ]
  },
  {
   "cell_type": "markdown",
   "id": "40c4124f-fc9c-4cce-ab98-bad72ad02981",
   "metadata": {},
   "source": [
    "## Задача 3."
   ]
  },
  {
   "cell_type": "markdown",
   "id": "5827f5ad-7505-4c00-8bbe-64ba759bd636",
   "metadata": {},
   "source": [
    "Вернуть количество отдельных непустых подстрок текста, которые могут\n",
    "быть записаны как конкатенация некоторой строки с самой собой (т.е. она\n",
    "может быть записана, как a + a, где a - некоторая строка).\n",
    "\n",
    "**Примеры:**\n",
    "\n",
    "Input: text = \"abcabcabc\"\n",
    "\n",
    "Output: 3\n",
    "\n",
    "Explanation: The 3 substrings are \"abcabc\", \"bcabca\"\n",
    "and \"cabcab\"."
   ]
  },
  {
   "cell_type": "code",
   "execution_count": 7,
   "id": "811565e0-6f4e-4b25-9279-d3d3418fae8d",
   "metadata": {},
   "outputs": [
    {
     "data": {
      "text/plain": [
       "3"
      ]
     },
     "execution_count": 7,
     "metadata": {},
     "output_type": "execute_result"
    }
   ],
   "source": [
    "def get_quantity_concatenation(str_):\n",
    "    conc_arr = set()\n",
    "    for i in range(len(str_) - 1):\n",
    "        for j in range(i + 1, len(str_)):\n",
    "            if str_[i:j + 1] == str_[j + 1:len(str_[i:j + 1]) + j + 1]:\n",
    "                conc_arr.add(str_[i:j + 1])\n",
    "    return len(conc_arr)\n",
    "\n",
    "get_quantity_concatenation('abcabcabc')"
   ]
  },
  {
   "cell_type": "code",
   "execution_count": null,
   "id": "cd4b491c-0332-45e8-8014-b89e1e7e9b1b",
   "metadata": {},
   "outputs": [],
   "source": []
  }
 ],
 "metadata": {
  "kernelspec": {
   "display_name": "Python 3",
   "language": "python",
   "name": "python3"
  },
  "language_info": {
   "codemirror_mode": {
    "name": "ipython",
    "version": 3
   },
   "file_extension": ".py",
   "mimetype": "text/x-python",
   "name": "python",
   "nbconvert_exporter": "python",
   "pygments_lexer": "ipython3",
   "version": "3.9.4"
  }
 },
 "nbformat": 4,
 "nbformat_minor": 5
}
