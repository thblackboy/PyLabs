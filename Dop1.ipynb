{
 "cells": [
  {
   "cell_type": "code",
   "execution_count": null,
   "metadata": {},
   "outputs": [],
   "source": [
    "#Для каждого игрока в порядке их следования во входном файле выведите одно число – категорию на драфте, в которую этот игрок попадает в соответствии с критериями вашей команды."
   ]
  },
  {
   "cell_type": "code",
   "execution_count": 14,
   "metadata": {},
   "outputs": [],
   "source": [
    "def chkval(val,minv,maxv):\n",
    "    if val>maxv:\n",
    "        return 100\n",
    "    elif val-minv>=(maxv-minv)/2:\n",
    "        return 10\n",
    "    elif val-minv>=0:\n",
    "        return 1\n",
    "    else:\n",
    "        return 0"
   ]
  },
  {
   "cell_type": "code",
   "execution_count": 15,
   "metadata": {},
   "outputs": [],
   "source": [
    "def chk_par(arr,val):\n",
    "    res=0\n",
    "    for i in range(len(arr)):\n",
    "        if arr[i]==val:\n",
    "            res+=1\n",
    "    return res"
   ]
  },
  {
   "cell_type": "code",
   "execution_count": 16,
   "metadata": {},
   "outputs": [],
   "source": [
    "def category(h,w,s,r,p):\n",
    "    arr=[h,w,s,r,p]\n",
    "    res=0\n",
    "    if(chkval(h,190,220)==100):\n",
    "        arr[0]=150        \n",
    "    else:\n",
    "        arr[0]=chkval(h,190,220)\n",
    "        \n",
    "    \n",
    "    if(chkval(w,200,250)==100):\n",
    "        arr[1]=150        \n",
    "    else:\n",
    "        arr[1]=chkval(w,200,250)\n",
    "                \n",
    "    arr[2]=chkval(s,10,20)    \n",
    "    arr[3]=chkval(r,2,6)\n",
    "    arr[4]=chkval(p,3,7)\n",
    "    \n",
    "    if chk_par(arr,150)>=1 and chk_par(arr,100)+chk_par(arr,150)>=3:\n",
    "        return 0\n",
    "    elif chk_par(arr,150)+chk_par(arr,100)>=2 and chk_par(arr,10)>=1:\n",
    "        return 1\n",
    "    elif chk_par(arr,10)>=3 and chk_par(arr,0)==0:\n",
    "        return 1\n",
    "    elif chk_par(arr,150)+chk_par(arr,100)>=1 and chk_par(arr,10)>=1:\n",
    "        return 2\n",
    "    elif chk_par(arr,10)>=3:\n",
    "        return 2\n",
    "    else:\n",
    "        return 3"
   ]
  },
  {
   "cell_type": "code",
   "execution_count": 17,
   "metadata": {
    "scrolled": true
   },
   "outputs": [
    {
     "name": "stdout",
     "output_type": "stream",
     "text": [
      "3\n",
      "230\n",
      "190\n",
      "16\n",
      "7\n",
      "9\n",
      "205\n",
      "225\n",
      "15\n",
      "5\n",
      "2\n",
      "210\n",
      "210\n",
      "30\n",
      "9\n",
      "9\n",
      "0\n",
      "2\n",
      "1\n"
     ]
    }
   ],
   "source": [
    "n = int(input())\n",
    "arr=[0]*n\n",
    "for i in range(n):\n",
    "    arr[i]=category(int(input()),int(input()),int(input()),int(input()),int(input()))\n",
    "for i in range(n):\n",
    "    print(arr[i])"
   ]
  },
  {
   "cell_type": "code",
   "execution_count": null,
   "metadata": {},
   "outputs": [],
   "source": []
  }
 ],
 "metadata": {
  "kernelspec": {
   "display_name": "Python 3",
   "language": "python",
   "name": "python3"
  },
  "language_info": {
   "codemirror_mode": {
    "name": "ipython",
    "version": 3
   },
   "file_extension": ".py",
   "mimetype": "text/x-python",
   "name": "python",
   "nbconvert_exporter": "python",
   "pygments_lexer": "ipython3",
   "version": "3.8.5"
  }
 },
 "nbformat": 4,
 "nbformat_minor": 4
}
